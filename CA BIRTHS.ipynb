{
 "metadata": {
  "name": "",
  "signature": "sha256:d2f7dc23cfadd21776fe440fb6fe3df30045b6c7fc976aa1ff8c593a03341749"
 },
 "nbformat": 3,
 "nbformat_minor": 0,
 "worksheets": [
  {
   "cells": [
    {
     "cell_type": "code",
     "collapsed": false,
     "input": [
      "%cd ~/Documents/PROYECTOS/Data/Births in CA/\n",
      "import pandas as pd\n",
      "import numpy as np\n",
      "#BLBHALBHA"
     ],
     "language": "python",
     "metadata": {},
     "outputs": [
      {
       "output_type": "stream",
       "stream": "stdout",
       "text": [
        "/Users/LS/Documents/PROYECTOS/Data/Births in CA\n"
       ]
      }
     ],
     "prompt_number": 2
    },
    {
     "cell_type": "markdown",
     "metadata": {},
     "source": [
      "#WEIGHTS"
     ]
    },
    {
     "cell_type": "code",
     "collapsed": false,
     "input": [
      "weights1 = pd.read_csv('Birth_Weights_by_ZIP_Code__1989-1999.csv')\n",
      "weights2 = pd.read_csv('Birth_Weights_by_ZIP_Code__2000-2012.csv')\n",
      "weights1.columns=['YEAR','ZIPCode','BIRTHWEIGHT','COUNT']\n",
      "weights2.columns=['YEAR','ZIPCode','BIRTHWEIGHT','COUNT']\n",
      "weights1.head()\n",
      "w_concat = pd.concat([weights1, weights2]) #JOINS THE TWO\n",
      "w_totals = w_concat.groupby(['YEAR','ZIPCode'])['COUNT'].sum().reset_index()\n",
      "#NOTE: You have to reset_index() above to get the merge to work later\n",
      "w_totals.columns=['YEAR','ZIPCode','TOTAL']\n",
      "w_totals.head()\n",
      "w = pd.merge(w_concat,w_totals)\n",
      "w['Prop'] = w['COUNT']/w['TOTAL'] #Prop = Proportions\n",
      "w.head()"
     ],
     "language": "python",
     "metadata": {},
     "outputs": [
      {
       "html": [
        "<div style=\"max-height:1000px;max-width:1500px;overflow:auto;\">\n",
        "<table border=\"1\" class=\"dataframe\">\n",
        "  <thead>\n",
        "    <tr style=\"text-align: right;\">\n",
        "      <th></th>\n",
        "      <th>YEAR</th>\n",
        "      <th>ZIPCode</th>\n",
        "      <th>BIRTHWEIGHT</th>\n",
        "      <th>COUNT</th>\n",
        "      <th>TOTAL</th>\n",
        "      <th>Prop</th>\n",
        "    </tr>\n",
        "  </thead>\n",
        "  <tbody>\n",
        "    <tr>\n",
        "      <th>0</th>\n",
        "      <td> 1989</td>\n",
        "      <td> 90001</td>\n",
        "      <td> Under 1500g</td>\n",
        "      <td>   31</td>\n",
        "      <td> 1923</td>\n",
        "      <td> 0.016121</td>\n",
        "    </tr>\n",
        "    <tr>\n",
        "      <th>1</th>\n",
        "      <td> 1989</td>\n",
        "      <td> 90001</td>\n",
        "      <td> 1500g-2499g</td>\n",
        "      <td>   95</td>\n",
        "      <td> 1923</td>\n",
        "      <td> 0.049402</td>\n",
        "    </tr>\n",
        "    <tr>\n",
        "      <th>2</th>\n",
        "      <td> 1989</td>\n",
        "      <td> 90001</td>\n",
        "      <td>      2500+g</td>\n",
        "      <td> 1797</td>\n",
        "      <td> 1923</td>\n",
        "      <td> 0.934477</td>\n",
        "    </tr>\n",
        "    <tr>\n",
        "      <th>3</th>\n",
        "      <td> 1989</td>\n",
        "      <td> 90001</td>\n",
        "      <td>  Weight Unk</td>\n",
        "      <td>    0</td>\n",
        "      <td> 1923</td>\n",
        "      <td> 0.000000</td>\n",
        "    </tr>\n",
        "    <tr>\n",
        "      <th>4</th>\n",
        "      <td> 1989</td>\n",
        "      <td> 90002</td>\n",
        "      <td> Under 1500g</td>\n",
        "      <td>   30</td>\n",
        "      <td> 1482</td>\n",
        "      <td> 0.020243</td>\n",
        "    </tr>\n",
        "  </tbody>\n",
        "</table>\n",
        "</div>"
       ],
       "metadata": {},
       "output_type": "pyout",
       "prompt_number": 3,
       "text": [
        "   YEAR  ZIPCode  BIRTHWEIGHT  COUNT  TOTAL      Prop\n",
        "0  1989    90001  Under 1500g     31   1923  0.016121\n",
        "1  1989    90001  1500g-2499g     95   1923  0.049402\n",
        "2  1989    90001       2500+g   1797   1923  0.934477\n",
        "3  1989    90001   Weight Unk      0   1923  0.000000\n",
        "4  1989    90002  Under 1500g     30   1482  0.020243"
       ]
      }
     ],
     "prompt_number": 3
    },
    {
     "cell_type": "markdown",
     "metadata": {},
     "source": [
      "#AGES"
     ]
    },
    {
     "cell_type": "code",
     "collapsed": false,
     "input": [
      "ages1 = pd.read_csv('Births_by_Mother_s_Age_by_ZIP_Code__1989-1999.csv')\n",
      "ages2 = pd.read_csv('Births_by_Mother_s_Age_by_ZIP_Code__2000-2012.csv')\n",
      "ages1.columns = ['YEAR','ZIPCode','AGE','COUNT']\n",
      "ages1.columns #One set had \"ZIPCode\" and the other had \"Zip Code\"\n",
      "ages = pd.concat([ages1,ages2])\n",
      "a_totals = ages.groupby(['YEAR','ZIPCode'])['COUNT'].sum().reset_index()\n",
      "a_totals.columns=['YEAR','ZIPCode','TOTAL'] #VERIFY THE SAME\n",
      "a = pd.merge(ages,a_totals) #m for merged\n",
      "a['Prop'] = a['COUNT']/a['TOTAL']\n",
      "a.head()"
     ],
     "language": "python",
     "metadata": {},
     "outputs": [
      {
       "html": [
        "<div style=\"max-height:1000px;max-width:1500px;overflow:auto;\">\n",
        "<table border=\"1\" class=\"dataframe\">\n",
        "  <thead>\n",
        "    <tr style=\"text-align: right;\">\n",
        "      <th></th>\n",
        "      <th>YEAR</th>\n",
        "      <th>ZIPCode</th>\n",
        "      <th>AGE</th>\n",
        "      <th>COUNT</th>\n",
        "      <th>TOTAL</th>\n",
        "      <th>Prop</th>\n",
        "    </tr>\n",
        "  </thead>\n",
        "  <tbody>\n",
        "    <tr>\n",
        "      <th>0</th>\n",
        "      <td> 1989</td>\n",
        "      <td> 90001</td>\n",
        "      <td>     &lt;20</td>\n",
        "      <td>  361</td>\n",
        "      <td> 1923</td>\n",
        "      <td> 0.187728</td>\n",
        "    </tr>\n",
        "    <tr>\n",
        "      <th>1</th>\n",
        "      <td> 1989</td>\n",
        "      <td> 90001</td>\n",
        "      <td>   20-29</td>\n",
        "      <td> 1097</td>\n",
        "      <td> 1923</td>\n",
        "      <td> 0.570463</td>\n",
        "    </tr>\n",
        "    <tr>\n",
        "      <th>2</th>\n",
        "      <td> 1989</td>\n",
        "      <td> 90001</td>\n",
        "      <td>   30-34</td>\n",
        "      <td>  326</td>\n",
        "      <td> 1923</td>\n",
        "      <td> 0.169527</td>\n",
        "    </tr>\n",
        "    <tr>\n",
        "      <th>3</th>\n",
        "      <td> 1989</td>\n",
        "      <td> 90001</td>\n",
        "      <td>     35+</td>\n",
        "      <td>  135</td>\n",
        "      <td> 1923</td>\n",
        "      <td> 0.070203</td>\n",
        "    </tr>\n",
        "    <tr>\n",
        "      <th>4</th>\n",
        "      <td> 1989</td>\n",
        "      <td> 90001</td>\n",
        "      <td> Age Unk</td>\n",
        "      <td>    4</td>\n",
        "      <td> 1923</td>\n",
        "      <td> 0.002080</td>\n",
        "    </tr>\n",
        "  </tbody>\n",
        "</table>\n",
        "</div>"
       ],
       "metadata": {},
       "output_type": "pyout",
       "prompt_number": 4,
       "text": [
        "   YEAR  ZIPCode      AGE  COUNT  TOTAL      Prop\n",
        "0  1989    90001      <20    361   1923  0.187728\n",
        "1  1989    90001    20-29   1097   1923  0.570463\n",
        "2  1989    90001    30-34    326   1923  0.169527\n",
        "3  1989    90001      35+    135   1923  0.070203\n",
        "4  1989    90001  Age Unk      4   1923  0.002080"
       ]
      }
     ],
     "prompt_number": 4
    },
    {
     "cell_type": "markdown",
     "metadata": {},
     "source": [
      "#CARE"
     ]
    },
    {
     "cell_type": "code",
     "collapsed": false,
     "input": [
      "care1 = pd.read_csv('Births_by_Prenatal_Care_by_ZIP_Code__1989-1999.csv')\n",
      "care2 = pd.read_csv('Births_by_Prenatal_Care_by_ZIP_Code__2000-2012.csv')\n",
      "care1.drop(care1.columns[4:],axis=1, inplace=True)\n",
      "care2.drop(care2.columns[4:],axis=1, inplace=True)\n",
      "care1.columns= ['YEAR','ZIPCode','CARE','COUNT']\n",
      "care2.columns= ['YEAR','ZIPCode','CARE','COUNT']\n",
      "c_concat = pd.concat([care1,care2])\n",
      "c_totals = c_concat.groupby(['YEAR','ZIPCode'])['COUNT'].sum().reset_index()\n",
      "c_totals.columns=['YEAR','ZIPCode','TOTAL'] #VERIFY THEN MOVE ON\n",
      "c = pd.merge(c_concat,c_totals)\n",
      "c['Prop'] = c['COUNT']/c['TOTAL']\n",
      "c.head()\n",
      "c['ZIPCode'].unique"
     ],
     "language": "python",
     "metadata": {},
     "outputs": [
      {
       "metadata": {},
       "output_type": "pyout",
       "prompt_number": 5,
       "text": [
        "<bound method Series.unique of 0     90001\n",
        "1     90001\n",
        "2     90001\n",
        "3     90001\n",
        "4     90001\n",
        "5     90002\n",
        "6     90002\n",
        "7     90002\n",
        "8     90002\n",
        "9     90002\n",
        "10    90003\n",
        "11    90003\n",
        "12    90003\n",
        "13    90003\n",
        "14    90003\n",
        "...\n",
        "188725    96162\n",
        "188726    96162\n",
        "188727    96162\n",
        "188728    96162\n",
        "188729    96162\n",
        "188730    96162\n",
        "188731    96162\n",
        "188732    96162\n",
        "188733    96162\n",
        "188734    96162\n",
        "188735    96162\n",
        "188736    96162\n",
        "188737    96162\n",
        "188738    96162\n",
        "188739    96162\n",
        "Name: ZIPCode, Length: 188740, dtype: int64>"
       ]
      }
     ],
     "prompt_number": 5
    },
    {
     "cell_type": "markdown",
     "metadata": {},
     "source": [
      "#RACE"
     ]
    },
    {
     "cell_type": "code",
     "collapsed": false,
     "input": [
      "race1 = pd.read_csv('Births_by_Race_by_ZIP_Code__1989-1999.csv')\n",
      "race2 = pd.read_csv('Births_by_Race_by_ZIP_Code__2000-2012.csv')\n",
      "race1.columns=['YEAR','ZIPCode','RACE','COUNT']\n",
      "race2.columns=['YEAR','ZIPCode','RACE','COUNT']\n",
      "r_concat = pd.concat([race1,race2]) #just for totals purposes"
     ],
     "language": "python",
     "metadata": {},
     "outputs": [],
     "prompt_number": 6
    },
    {
     "cell_type": "markdown",
     "metadata": {},
     "source": [
      "We have to do a little extra cleanup here. In the earlier decade, some of the races don't even show up. 1989-1999 has \"AsianP.I.\" while 2000-2012 has \"Asian,\" \"SE Asian,\" \"HAWAIIAN PAC.ISL\" as well as \"TWO+ Races\". Before we embark on this step though, let's just take sum totals so we can make sure our datasets are consistent."
     ]
    },
    {
     "cell_type": "code",
     "collapsed": false,
     "input": [
      "r_totals = r_concat.groupby(['YEAR','ZIPCode'])['COUNT'].sum().reset_index()\n",
      "r_totals.columns = ['YEAR','ZIPCode','TOTAL']"
     ],
     "language": "python",
     "metadata": {},
     "outputs": [],
     "prompt_number": 7
    },
    {
     "cell_type": "markdown",
     "metadata": {},
     "source": [
      "*After verifying totals* Now let's get our races straight. \n",
      "I'm just going to keep it simple and group all the asians under \"Asian,\" (exluding Filipino because that's always been excluded, for some reason) and the \"TWO+ Races\" can go under \"Other/Un\""
     ]
    },
    {
     "cell_type": "code",
     "collapsed": false,
     "input": [
      "race2.head(10)"
     ],
     "language": "python",
     "metadata": {},
     "outputs": [
      {
       "html": [
        "<div style=\"max-height:1000px;max-width:1500px;overflow:auto;\">\n",
        "<table border=\"1\" class=\"dataframe\">\n",
        "  <thead>\n",
        "    <tr style=\"text-align: right;\">\n",
        "      <th></th>\n",
        "      <th>YEAR</th>\n",
        "      <th>ZIPCode</th>\n",
        "      <th>RACE</th>\n",
        "      <th>COUNT</th>\n",
        "    </tr>\n",
        "  </thead>\n",
        "  <tbody>\n",
        "    <tr>\n",
        "      <th>0</th>\n",
        "      <td> 2000</td>\n",
        "      <td> 90001</td>\n",
        "      <td>         Amer Ind.</td>\n",
        "      <td>    0</td>\n",
        "    </tr>\n",
        "    <tr>\n",
        "      <th>1</th>\n",
        "      <td> 2000</td>\n",
        "      <td> 90001</td>\n",
        "      <td>             Asian</td>\n",
        "      <td>    1</td>\n",
        "    </tr>\n",
        "    <tr>\n",
        "      <th>2</th>\n",
        "      <td> 2000</td>\n",
        "      <td> 90001</td>\n",
        "      <td>          SE Asian</td>\n",
        "      <td>    0</td>\n",
        "    </tr>\n",
        "    <tr>\n",
        "      <th>3</th>\n",
        "      <td> 2000</td>\n",
        "      <td> 90001</td>\n",
        "      <td>             Black</td>\n",
        "      <td>  103</td>\n",
        "    </tr>\n",
        "    <tr>\n",
        "      <th>4</th>\n",
        "      <td> 2000</td>\n",
        "      <td> 90001</td>\n",
        "      <td>          Filipino</td>\n",
        "      <td>    1</td>\n",
        "    </tr>\n",
        "    <tr>\n",
        "      <th>5</th>\n",
        "      <td> 2000</td>\n",
        "      <td> 90001</td>\n",
        "      <td>          Hispanic</td>\n",
        "      <td> 1316</td>\n",
        "    </tr>\n",
        "    <tr>\n",
        "      <th>6</th>\n",
        "      <td> 2000</td>\n",
        "      <td> 90001</td>\n",
        "      <td> HAWAIIAN  PAC.ISL</td>\n",
        "      <td>    0</td>\n",
        "    </tr>\n",
        "    <tr>\n",
        "      <th>7</th>\n",
        "      <td> 2000</td>\n",
        "      <td> 90001</td>\n",
        "      <td>             White</td>\n",
        "      <td>   10</td>\n",
        "    </tr>\n",
        "    <tr>\n",
        "      <th>8</th>\n",
        "      <td> 2000</td>\n",
        "      <td> 90001</td>\n",
        "      <td>        TWO+ RACES</td>\n",
        "      <td>    3</td>\n",
        "    </tr>\n",
        "    <tr>\n",
        "      <th>9</th>\n",
        "      <td> 2000</td>\n",
        "      <td> 90001</td>\n",
        "      <td>         Other/Unk</td>\n",
        "      <td>    3</td>\n",
        "    </tr>\n",
        "  </tbody>\n",
        "</table>\n",
        "</div>"
       ],
       "metadata": {},
       "output_type": "pyout",
       "prompt_number": 8,
       "text": [
        "   YEAR  ZIPCode               RACE  COUNT\n",
        "0  2000    90001          Amer Ind.      0\n",
        "1  2000    90001              Asian      1\n",
        "2  2000    90001           SE Asian      0\n",
        "3  2000    90001              Black    103\n",
        "4  2000    90001           Filipino      1\n",
        "5  2000    90001           Hispanic   1316\n",
        "6  2000    90001  HAWAIIAN  PAC.ISL      0\n",
        "7  2000    90001              White     10\n",
        "8  2000    90001         TWO+ RACES      3\n",
        "9  2000    90001          Other/Unk      3"
       ]
      }
     ],
     "prompt_number": 8
    },
    {
     "cell_type": "code",
     "collapsed": false,
     "input": [
      "#Editing race1, changing all instances of \"AsianP.I.\" to \"Asian\"\n",
      "race1_e = race1['RACE'].str.replace('AsianP.I.','Asian')\n",
      "race1_final = race1\n",
      "race1_final['RACE'] = race1_e"
     ],
     "language": "python",
     "metadata": {},
     "outputs": [],
     "prompt_number": 9
    },
    {
     "cell_type": "code",
     "collapsed": false,
     "input": [
      "#Editing race2, adding SE Asian and HawaiianPAC.ISL into \"Asian\", also adding \"Other/Unk.\" and \"TWO+ Races\" togeterh\n",
      "\n",
      "#ASIAN\n",
      "r2_azn = race2[(race2['RACE']=='Asian') | (race2['RACE']=='SE Asian') | (race2['RACE']=='HAWAIIAN  PAC.ISL')].groupby(['YEAR','ZIPCode']).sum()['COUNT'].reset_index()\n",
      "r2_azn[\"RACE\"]='Asian'\n",
      "#Re-arrange the columns just for organization\n",
      "cols = r2_azn.columns.tolist()\n",
      "cols = cols[0:2] + [cols[3]] + [cols[2]]\n",
      "r2_azn = r2_azn[cols]\n",
      "r2_azn.head()\n",
      "\n",
      "#OTHER\n",
      "r2_other = race2[(race2['RACE']=='TWO+ RACES') | (race2['RACE']=='Other/Unk')].groupby(['YEAR','ZIPCode']).sum()['COUNT'].reset_index()\n",
      "r2_other[\"RACE\"]='Other/Unk'\n",
      "r2_other.head()\n",
      "#Re-arrange the columns just for organization\n",
      "cols = r2_other.columns.tolist()\n",
      "cols = cols[0:2] + [cols[3]] + [cols[2]]\n",
      "r2_other = r2_other[cols]"
     ],
     "language": "python",
     "metadata": {},
     "outputs": [],
     "prompt_number": 10
    },
    {
     "cell_type": "code",
     "collapsed": false,
     "input": [
      "#Remove the categories from the dataset that you've just recombined\n",
      "race2_e = race2[(race2['RACE']!='Asian') & (race2['RACE']!='SE Asian') & (race2['RACE']!='HAWAIIAN  PAC.ISL') & (race2['RACE']!='TWO+ RACES') & (race2['RACE']!='Other/Unk')]\n",
      "#re-index\n",
      "race2_e.index=range(0,len(race2_e))\n",
      "#Add in the combined races\n",
      "r2_azn.head()\n",
      "race2_final = pd.concat([race2_e, r2_azn, r2_other])"
     ],
     "language": "python",
     "metadata": {},
     "outputs": [],
     "prompt_number": 11
    },
    {
     "cell_type": "code",
     "collapsed": false,
     "input": [
      "#Now combine the 1989-1999 and 2000-2012 datasets\n",
      "r_concat = pd.concat([race1_final, race2_final])\n",
      "r_concat.head(20)\n",
      "r = pd.merge(r_concat, r_totals)\n",
      "r['Prop'] = r['COUNT']/r['TOTAL']\n",
      "r.head(4)"
     ],
     "language": "python",
     "metadata": {},
     "outputs": [
      {
       "html": [
        "<div style=\"max-height:1000px;max-width:1500px;overflow:auto;\">\n",
        "<table border=\"1\" class=\"dataframe\">\n",
        "  <thead>\n",
        "    <tr style=\"text-align: right;\">\n",
        "      <th></th>\n",
        "      <th>YEAR</th>\n",
        "      <th>ZIPCode</th>\n",
        "      <th>RACE</th>\n",
        "      <th>COUNT</th>\n",
        "      <th>TOTAL</th>\n",
        "      <th>Prop</th>\n",
        "    </tr>\n",
        "  </thead>\n",
        "  <tbody>\n",
        "    <tr>\n",
        "      <th>0</th>\n",
        "      <td> 1989</td>\n",
        "      <td> 94131</td>\n",
        "      <td>    Black</td>\n",
        "      <td>  27</td>\n",
        "      <td> 355</td>\n",
        "      <td> 0.076056</td>\n",
        "    </tr>\n",
        "    <tr>\n",
        "      <th>1</th>\n",
        "      <td> 1989</td>\n",
        "      <td> 94131</td>\n",
        "      <td> Filipino</td>\n",
        "      <td>  12</td>\n",
        "      <td> 355</td>\n",
        "      <td> 0.033803</td>\n",
        "    </tr>\n",
        "    <tr>\n",
        "      <th>2</th>\n",
        "      <td> 1989</td>\n",
        "      <td> 94131</td>\n",
        "      <td> Hispanic</td>\n",
        "      <td>  58</td>\n",
        "      <td> 355</td>\n",
        "      <td> 0.163380</td>\n",
        "    </tr>\n",
        "    <tr>\n",
        "      <th>3</th>\n",
        "      <td> 1989</td>\n",
        "      <td> 94131</td>\n",
        "      <td>    White</td>\n",
        "      <td> 197</td>\n",
        "      <td> 355</td>\n",
        "      <td> 0.554930</td>\n",
        "    </tr>\n",
        "  </tbody>\n",
        "</table>\n",
        "</div>"
       ],
       "metadata": {},
       "output_type": "pyout",
       "prompt_number": 12,
       "text": [
        "   YEAR  ZIPCode      RACE  COUNT  TOTAL      Prop\n",
        "0  1989    94131     Black     27    355  0.076056\n",
        "1  1989    94131  Filipino     12    355  0.033803\n",
        "2  1989    94131  Hispanic     58    355  0.163380\n",
        "3  1989    94131     White    197    355  0.554930"
       ]
      }
     ],
     "prompt_number": 12
    },
    {
     "cell_type": "markdown",
     "metadata": {},
     "source": [
      "#Create the Master"
     ]
    },
    {
     "cell_type": "code",
     "collapsed": false,
     "input": [
      "lett = [a,c,r,w]\n",
      "cats = ['AGE','CARE','RACE','BIRTHWEIGHT']\n",
      "cats2 = [[['A1_LESS_20','<20'],['A2_TWEN','20-29'],['A3_THIR','30-34'],['A4_THIRPLUS','35+'],['A5_UNKAGE','Age Unk']],\n",
      "[['C1_NO_CARE','None'],['C2_FIRST_CARE','First'],['C3_SEC_CARE','Second'],['C4_THIRD_CARE','Third'],['C5_UNK_CARE','Unk']],\n",
      "[['R1_AZN','Asian'],['R2_FIL','Filipino'],['R3_IND','Amer Ind.'],['R4_WHITE','White'],['R5_BLACK','Black'],['R6_HISP','Hispanic'],['R7_UNK_RACE','Other/Unk']],\n",
      "[['W1_2500','2500+g'],['W2_UNDER_1500','Under 1500g'],['W3_FIFT','1500g-2499g'],['W4_UNK_W','Weight Unk']]]\n",
      "\n",
      "counter = 0\n",
      "i=0\n",
      "while i < 4:\n",
      "    d={}\n",
      "    g = lett[i]\n",
      "    cat = cats[i]\n",
      "    buckets = cats2[i]\n",
      "    for b in buckets:\n",
      "        name1 = b[0]+ '_p' \n",
      "        name2 = b[0]\n",
      "        d[name1] = g[g[cat]==b[1]].groupby(['YEAR','ZIPCode']).sum()['Prop'].reset_index()\n",
      "        d[name2] = g[g[cat]==b[1]].groupby(['YEAR','ZIPCode']).sum()['COUNT'].reset_index()\n",
      "        d[name1].columns=['YEAR','ZIPCode',name1]\n",
      "        d[name2].columns=['YEAR','ZIPCode',name2]\n",
      "\n",
      "    final2 = d[buckets[0][0]]\n",
      "    #merges the category's sub-categories (ie, all of the races into one race chart)\n",
      "    for key in d:\n",
      "        final2 = pd.merge(final2,d[key])\n",
      "        \n",
      "    #merges the categories\n",
      "    if counter == 0:\n",
      "        final = d[buckets[0][0]]\n",
      "    final = pd.merge(final, final2)\n",
      "    counter +=1\n",
      "    i+=1\n",
      "\n",
      "cols = sorted(final.columns.tolist())\n",
      "final = final[cols]\n",
      "final.head()"
     ],
     "language": "python",
     "metadata": {},
     "outputs": [
      {
       "html": [
        "<div style=\"max-height:1000px;max-width:1500px;overflow:auto;\">\n",
        "<table border=\"1\" class=\"dataframe\">\n",
        "  <thead>\n",
        "    <tr style=\"text-align: right;\">\n",
        "      <th></th>\n",
        "      <th>A1_LESS_20</th>\n",
        "      <th>A1_LESS_20_p</th>\n",
        "      <th>A2_TWEN</th>\n",
        "      <th>A2_TWEN_p</th>\n",
        "      <th>A3_THIR</th>\n",
        "      <th>A3_THIR_p</th>\n",
        "      <th>A4_THIRPLUS</th>\n",
        "      <th>A4_THIRPLUS_p</th>\n",
        "      <th>A5_UNKAGE</th>\n",
        "      <th>A5_UNKAGE_p</th>\n",
        "      <th>...</th>\n",
        "      <th>W1_2500</th>\n",
        "      <th>W1_2500_p</th>\n",
        "      <th>W2_UNDER_1500</th>\n",
        "      <th>W2_UNDER_1500_p</th>\n",
        "      <th>W3_FIFT</th>\n",
        "      <th>W3_FIFT_p</th>\n",
        "      <th>W4_UNK_W</th>\n",
        "      <th>W4_UNK_W_p</th>\n",
        "      <th>YEAR</th>\n",
        "      <th>ZIPCode</th>\n",
        "    </tr>\n",
        "  </thead>\n",
        "  <tbody>\n",
        "    <tr>\n",
        "      <th>0</th>\n",
        "      <td> 361</td>\n",
        "      <td> 0.187728</td>\n",
        "      <td> 1097</td>\n",
        "      <td> 0.570463</td>\n",
        "      <td> 326</td>\n",
        "      <td> 0.169527</td>\n",
        "      <td> 135</td>\n",
        "      <td> 0.070203</td>\n",
        "      <td> 4</td>\n",
        "      <td> 0.002080</td>\n",
        "      <td>...</td>\n",
        "      <td> 1797</td>\n",
        "      <td> 0.934477</td>\n",
        "      <td> 31</td>\n",
        "      <td> 0.016121</td>\n",
        "      <td>  95</td>\n",
        "      <td> 0.049402</td>\n",
        "      <td> 0</td>\n",
        "      <td> 0.000000</td>\n",
        "      <td> 1989</td>\n",
        "      <td> 90001</td>\n",
        "    </tr>\n",
        "    <tr>\n",
        "      <th>1</th>\n",
        "      <td> 308</td>\n",
        "      <td> 0.207827</td>\n",
        "      <td>  860</td>\n",
        "      <td> 0.580297</td>\n",
        "      <td> 210</td>\n",
        "      <td> 0.141700</td>\n",
        "      <td> 102</td>\n",
        "      <td> 0.068826</td>\n",
        "      <td> 2</td>\n",
        "      <td> 0.001350</td>\n",
        "      <td>...</td>\n",
        "      <td> 1331</td>\n",
        "      <td> 0.898111</td>\n",
        "      <td> 30</td>\n",
        "      <td> 0.020243</td>\n",
        "      <td> 118</td>\n",
        "      <td> 0.079622</td>\n",
        "      <td> 3</td>\n",
        "      <td> 0.002024</td>\n",
        "      <td> 1989</td>\n",
        "      <td> 90002</td>\n",
        "    </tr>\n",
        "    <tr>\n",
        "      <th>2</th>\n",
        "      <td> 373</td>\n",
        "      <td> 0.186874</td>\n",
        "      <td> 1153</td>\n",
        "      <td> 0.577655</td>\n",
        "      <td> 313</td>\n",
        "      <td> 0.156814</td>\n",
        "      <td> 154</td>\n",
        "      <td> 0.077154</td>\n",
        "      <td> 3</td>\n",
        "      <td> 0.001503</td>\n",
        "      <td>...</td>\n",
        "      <td> 1799</td>\n",
        "      <td> 0.901303</td>\n",
        "      <td> 37</td>\n",
        "      <td> 0.018537</td>\n",
        "      <td> 159</td>\n",
        "      <td> 0.079659</td>\n",
        "      <td> 1</td>\n",
        "      <td> 0.000501</td>\n",
        "      <td> 1989</td>\n",
        "      <td> 90003</td>\n",
        "    </tr>\n",
        "    <tr>\n",
        "      <th>3</th>\n",
        "      <td> 130</td>\n",
        "      <td> 0.090278</td>\n",
        "      <td>  811</td>\n",
        "      <td> 0.563194</td>\n",
        "      <td> 313</td>\n",
        "      <td> 0.217361</td>\n",
        "      <td> 185</td>\n",
        "      <td> 0.128472</td>\n",
        "      <td> 1</td>\n",
        "      <td> 0.000694</td>\n",
        "      <td>...</td>\n",
        "      <td> 1352</td>\n",
        "      <td> 0.938889</td>\n",
        "      <td>  9</td>\n",
        "      <td> 0.006250</td>\n",
        "      <td>  79</td>\n",
        "      <td> 0.054861</td>\n",
        "      <td> 0</td>\n",
        "      <td> 0.000000</td>\n",
        "      <td> 1989</td>\n",
        "      <td> 90004</td>\n",
        "    </tr>\n",
        "    <tr>\n",
        "      <th>4</th>\n",
        "      <td> 116</td>\n",
        "      <td> 0.113503</td>\n",
        "      <td>  644</td>\n",
        "      <td> 0.630137</td>\n",
        "      <td> 190</td>\n",
        "      <td> 0.185910</td>\n",
        "      <td>  70</td>\n",
        "      <td> 0.068493</td>\n",
        "      <td> 2</td>\n",
        "      <td> 0.001957</td>\n",
        "      <td>...</td>\n",
        "      <td>  966</td>\n",
        "      <td> 0.945205</td>\n",
        "      <td> 11</td>\n",
        "      <td> 0.010763</td>\n",
        "      <td>  44</td>\n",
        "      <td> 0.043053</td>\n",
        "      <td> 1</td>\n",
        "      <td> 0.000978</td>\n",
        "      <td> 1989</td>\n",
        "      <td> 90005</td>\n",
        "    </tr>\n",
        "  </tbody>\n",
        "</table>\n",
        "<p>5 rows \u00d7 44 columns</p>\n",
        "</div>"
       ],
       "metadata": {},
       "output_type": "pyout",
       "prompt_number": 13,
       "text": [
        "   A1_LESS_20  A1_LESS_20_p  A2_TWEN  A2_TWEN_p  A3_THIR  A3_THIR_p  \\\n",
        "0         361      0.187728     1097   0.570463      326   0.169527   \n",
        "1         308      0.207827      860   0.580297      210   0.141700   \n",
        "2         373      0.186874     1153   0.577655      313   0.156814   \n",
        "3         130      0.090278      811   0.563194      313   0.217361   \n",
        "4         116      0.113503      644   0.630137      190   0.185910   \n",
        "\n",
        "   A4_THIRPLUS  A4_THIRPLUS_p  A5_UNKAGE  A5_UNKAGE_p     ...       W1_2500  \\\n",
        "0          135       0.070203          4     0.002080     ...          1797   \n",
        "1          102       0.068826          2     0.001350     ...          1331   \n",
        "2          154       0.077154          3     0.001503     ...          1799   \n",
        "3          185       0.128472          1     0.000694     ...          1352   \n",
        "4           70       0.068493          2     0.001957     ...           966   \n",
        "\n",
        "   W1_2500_p  W2_UNDER_1500  W2_UNDER_1500_p  W3_FIFT  W3_FIFT_p  W4_UNK_W  \\\n",
        "0   0.934477             31         0.016121       95   0.049402         0   \n",
        "1   0.898111             30         0.020243      118   0.079622         3   \n",
        "2   0.901303             37         0.018537      159   0.079659         1   \n",
        "3   0.938889              9         0.006250       79   0.054861         0   \n",
        "4   0.945205             11         0.010763       44   0.043053         1   \n",
        "\n",
        "   W4_UNK_W_p  YEAR  ZIPCode  \n",
        "0    0.000000  1989    90001  \n",
        "1    0.002024  1989    90002  \n",
        "2    0.000501  1989    90003  \n",
        "3    0.000000  1989    90004  \n",
        "4    0.000978  1989    90005  \n",
        "\n",
        "[5 rows x 44 columns]"
       ]
      }
     ],
     "prompt_number": 13
    },
    {
     "cell_type": "code",
     "collapsed": false,
     "input": [
      "# all_data = [c_ALL, r_ALL, w_ALL]\n",
      "# master = a_ALL\n",
      "\n",
      "# for data in all_data:\n",
      "#     master = pd.merge(master,data)\n",
      "    \n",
      "master=final\n",
      "master.head()\n",
      "m_cols = master.columns.tolist()\n",
      "m_pcols = [c for c in m_cols if c.lower()[-2:] == '_p']\n",
      "master_prop = m_cols[-2:]+ m_pcols\n",
      "master_prop\n",
      "master_p = master[master_prop]\n",
      "master_p.head()"
     ],
     "language": "python",
     "metadata": {},
     "outputs": [
      {
       "html": [
        "<div style=\"max-height:1000px;max-width:1500px;overflow:auto;\">\n",
        "<table border=\"1\" class=\"dataframe\">\n",
        "  <thead>\n",
        "    <tr style=\"text-align: right;\">\n",
        "      <th></th>\n",
        "      <th>YEAR</th>\n",
        "      <th>ZIPCode</th>\n",
        "      <th>A1_LESS_20_p</th>\n",
        "      <th>A2_TWEN_p</th>\n",
        "      <th>A3_THIR_p</th>\n",
        "      <th>A4_THIRPLUS_p</th>\n",
        "      <th>A5_UNKAGE_p</th>\n",
        "      <th>C1_NO_CARE_p</th>\n",
        "      <th>C2_FIRST_CARE_p</th>\n",
        "      <th>C3_SEC_CARE_p</th>\n",
        "      <th>...</th>\n",
        "      <th>R2_FIL_p</th>\n",
        "      <th>R3_IND_p</th>\n",
        "      <th>R4_WHITE_p</th>\n",
        "      <th>R5_BLACK_p</th>\n",
        "      <th>R6_HISP_p</th>\n",
        "      <th>R7_UNK_RACE_p</th>\n",
        "      <th>W1_2500_p</th>\n",
        "      <th>W2_UNDER_1500_p</th>\n",
        "      <th>W3_FIFT_p</th>\n",
        "      <th>W4_UNK_W_p</th>\n",
        "    </tr>\n",
        "  </thead>\n",
        "  <tbody>\n",
        "    <tr>\n",
        "      <th>0</th>\n",
        "      <td> 1989</td>\n",
        "      <td> 90001</td>\n",
        "      <td> 0.187728</td>\n",
        "      <td> 0.570463</td>\n",
        "      <td> 0.169527</td>\n",
        "      <td> 0.070203</td>\n",
        "      <td> 0.002080</td>\n",
        "      <td> 0.047842</td>\n",
        "      <td> 0.550182</td>\n",
        "      <td> 0.333333</td>\n",
        "      <td>...</td>\n",
        "      <td> 0.001040</td>\n",
        "      <td> 0.001040</td>\n",
        "      <td> 0.016121</td>\n",
        "      <td> 0.162246</td>\n",
        "      <td> 0.815393</td>\n",
        "      <td> 0.000520</td>\n",
        "      <td> 0.934477</td>\n",
        "      <td> 0.016121</td>\n",
        "      <td> 0.049402</td>\n",
        "      <td> 0.000000</td>\n",
        "    </tr>\n",
        "    <tr>\n",
        "      <th>1</th>\n",
        "      <td> 1989</td>\n",
        "      <td> 90002</td>\n",
        "      <td> 0.207827</td>\n",
        "      <td> 0.580297</td>\n",
        "      <td> 0.141700</td>\n",
        "      <td> 0.068826</td>\n",
        "      <td> 0.001350</td>\n",
        "      <td> 0.056680</td>\n",
        "      <td> 0.552632</td>\n",
        "      <td> 0.317139</td>\n",
        "      <td>...</td>\n",
        "      <td> 0.000000</td>\n",
        "      <td> 0.000000</td>\n",
        "      <td> 0.010796</td>\n",
        "      <td> 0.501350</td>\n",
        "      <td> 0.487179</td>\n",
        "      <td> 0.000000</td>\n",
        "      <td> 0.898111</td>\n",
        "      <td> 0.020243</td>\n",
        "      <td> 0.079622</td>\n",
        "      <td> 0.002024</td>\n",
        "    </tr>\n",
        "    <tr>\n",
        "      <th>2</th>\n",
        "      <td> 1989</td>\n",
        "      <td> 90003</td>\n",
        "      <td> 0.186874</td>\n",
        "      <td> 0.577655</td>\n",
        "      <td> 0.156814</td>\n",
        "      <td> 0.077154</td>\n",
        "      <td> 0.001503</td>\n",
        "      <td> 0.036573</td>\n",
        "      <td> 0.581162</td>\n",
        "      <td> 0.315130</td>\n",
        "      <td>...</td>\n",
        "      <td> 0.000501</td>\n",
        "      <td> 0.001503</td>\n",
        "      <td> 0.014028</td>\n",
        "      <td> 0.413828</td>\n",
        "      <td> 0.565631</td>\n",
        "      <td> 0.000000</td>\n",
        "      <td> 0.901303</td>\n",
        "      <td> 0.018537</td>\n",
        "      <td> 0.079659</td>\n",
        "      <td> 0.000501</td>\n",
        "    </tr>\n",
        "    <tr>\n",
        "      <th>3</th>\n",
        "      <td> 1989</td>\n",
        "      <td> 90004</td>\n",
        "      <td> 0.090278</td>\n",
        "      <td> 0.563194</td>\n",
        "      <td> 0.217361</td>\n",
        "      <td> 0.128472</td>\n",
        "      <td> 0.000694</td>\n",
        "      <td> 0.018750</td>\n",
        "      <td> 0.670833</td>\n",
        "      <td> 0.260417</td>\n",
        "      <td>...</td>\n",
        "      <td> 0.077778</td>\n",
        "      <td> 0.000694</td>\n",
        "      <td> 0.113194</td>\n",
        "      <td> 0.036111</td>\n",
        "      <td> 0.649306</td>\n",
        "      <td> 0.000694</td>\n",
        "      <td> 0.938889</td>\n",
        "      <td> 0.006250</td>\n",
        "      <td> 0.054861</td>\n",
        "      <td> 0.000000</td>\n",
        "    </tr>\n",
        "    <tr>\n",
        "      <th>4</th>\n",
        "      <td> 1989</td>\n",
        "      <td> 90005</td>\n",
        "      <td> 0.113503</td>\n",
        "      <td> 0.630137</td>\n",
        "      <td> 0.185910</td>\n",
        "      <td> 0.068493</td>\n",
        "      <td> 0.001957</td>\n",
        "      <td> 0.035225</td>\n",
        "      <td> 0.588063</td>\n",
        "      <td> 0.283757</td>\n",
        "      <td>...</td>\n",
        "      <td> 0.038160</td>\n",
        "      <td> 0.000000</td>\n",
        "      <td> 0.040117</td>\n",
        "      <td> 0.045988</td>\n",
        "      <td> 0.767123</td>\n",
        "      <td> 0.001957</td>\n",
        "      <td> 0.945205</td>\n",
        "      <td> 0.010763</td>\n",
        "      <td> 0.043053</td>\n",
        "      <td> 0.000978</td>\n",
        "    </tr>\n",
        "  </tbody>\n",
        "</table>\n",
        "<p>5 rows \u00d7 23 columns</p>\n",
        "</div>"
       ],
       "metadata": {},
       "output_type": "pyout",
       "prompt_number": 14,
       "text": [
        "   YEAR  ZIPCode  A1_LESS_20_p  A2_TWEN_p  A3_THIR_p  A4_THIRPLUS_p  \\\n",
        "0  1989    90001      0.187728   0.570463   0.169527       0.070203   \n",
        "1  1989    90002      0.207827   0.580297   0.141700       0.068826   \n",
        "2  1989    90003      0.186874   0.577655   0.156814       0.077154   \n",
        "3  1989    90004      0.090278   0.563194   0.217361       0.128472   \n",
        "4  1989    90005      0.113503   0.630137   0.185910       0.068493   \n",
        "\n",
        "   A5_UNKAGE_p  C1_NO_CARE_p  C2_FIRST_CARE_p  C3_SEC_CARE_p      ...        \\\n",
        "0     0.002080      0.047842         0.550182       0.333333      ...         \n",
        "1     0.001350      0.056680         0.552632       0.317139      ...         \n",
        "2     0.001503      0.036573         0.581162       0.315130      ...         \n",
        "3     0.000694      0.018750         0.670833       0.260417      ...         \n",
        "4     0.001957      0.035225         0.588063       0.283757      ...         \n",
        "\n",
        "   R2_FIL_p  R3_IND_p  R4_WHITE_p  R5_BLACK_p  R6_HISP_p  R7_UNK_RACE_p  \\\n",
        "0  0.001040  0.001040    0.016121    0.162246   0.815393       0.000520   \n",
        "1  0.000000  0.000000    0.010796    0.501350   0.487179       0.000000   \n",
        "2  0.000501  0.001503    0.014028    0.413828   0.565631       0.000000   \n",
        "3  0.077778  0.000694    0.113194    0.036111   0.649306       0.000694   \n",
        "4  0.038160  0.000000    0.040117    0.045988   0.767123       0.001957   \n",
        "\n",
        "   W1_2500_p  W2_UNDER_1500_p  W3_FIFT_p  W4_UNK_W_p  \n",
        "0   0.934477         0.016121   0.049402    0.000000  \n",
        "1   0.898111         0.020243   0.079622    0.002024  \n",
        "2   0.901303         0.018537   0.079659    0.000501  \n",
        "3   0.938889         0.006250   0.054861    0.000000  \n",
        "4   0.945205         0.010763   0.043053    0.000978  \n",
        "\n",
        "[5 rows x 23 columns]"
       ]
      }
     ],
     "prompt_number": 14
    },
    {
     "cell_type": "code",
     "collapsed": false,
     "input": [
      "# #remove zipcodes 99999 and 99998\n",
      "# master_final = master_p[(master_p['ZIPCode']!=99998)&(master_p['ZIPCode']!=99999)]\n",
      "# master_final.shape"
     ],
     "language": "python",
     "metadata": {},
     "outputs": [],
     "prompt_number": 15
    },
    {
     "cell_type": "code",
     "collapsed": false,
     "input": [
      "#now let's just work with \"m\" to keep it simple. \n",
      "m = master_p\n",
      "\n",
      "#check for NaN\n",
      "pd.isnull(m).any(1).nonzero()[0]\n",
      "# m.ix[4862][5:13] #It appears we're just missing all care values for these\n",
      "m.shape"
     ],
     "language": "python",
     "metadata": {},
     "outputs": [
      {
       "metadata": {},
       "output_type": "pyout",
       "prompt_number": 16,
       "text": [
        "(37748, 23)"
       ]
      }
     ],
     "prompt_number": 16
    },
    {
     "cell_type": "code",
     "collapsed": false,
     "input": [
      "m.fillna(0,inplace=True)\n",
      "pd.isnull(m).any(1).nonzero()[0] #all fixed!"
     ],
     "language": "python",
     "metadata": {},
     "outputs": [
      {
       "output_type": "stream",
       "stream": "stderr",
       "text": [
        "-c:1: SettingWithCopyWarning: A value is trying to be set on a copy of a slice from a DataFrame\n"
       ]
      },
      {
       "metadata": {},
       "output_type": "pyout",
       "prompt_number": 17,
       "text": [
        "array([], dtype=int64)"
       ]
      }
     ],
     "prompt_number": 17
    },
    {
     "cell_type": "code",
     "collapsed": false,
     "input": [
      "m[(m['W1_2500_p']<0.91) & ((m['YEAR'] ==2012)|(m['YEAR'] ==2011))].shape"
     ],
     "language": "python",
     "metadata": {},
     "outputs": [
      {
       "metadata": {},
       "output_type": "pyout",
       "prompt_number": 18,
       "text": [
        "(446, 23)"
       ]
      }
     ],
     "prompt_number": 18
    },
    {
     "cell_type": "code",
     "collapsed": false,
     "input": [
      "m_avg = m.groupby(['ZIPCode'])['W1_2500_p'].mean()\n",
      "zips_0 = m_avg[m_avg<0.91].reset_index()['ZIPCode']\n",
      "zips_0.shape"
     ],
     "language": "python",
     "metadata": {},
     "outputs": [
      {
       "metadata": {},
       "output_type": "pyout",
       "prompt_number": 19,
       "text": [
        "(173,)"
       ]
      }
     ],
     "prompt_number": 19
    },
    {
     "cell_type": "markdown",
     "metadata": {},
     "source": [
      "#Let's Create Some Custom Variables"
     ]
    },
    {
     "cell_type": "code",
     "collapsed": false,
     "input": [
      "m['X1'] = m['R5_BLACK_p'] + m['R6_HISP_p']\n",
      "m['X2'] = m['C3_SEC_CARE_p']+ m['C4_THIRD_CARE_p']\n",
      "m.shape"
     ],
     "language": "python",
     "metadata": {},
     "outputs": [
      {
       "metadata": {},
       "output_type": "pyout",
       "prompt_number": 20,
       "text": [
        "(37748, 25)"
       ]
      }
     ],
     "prompt_number": 20
    },
    {
     "cell_type": "code",
     "collapsed": false,
     "input": [
      "\n",
      "w2 = w[(w['BIRTHWEIGHT']=='2500+g')]\n",
      "\n",
      "w2.sort(columns=['ZIPCode','YEAR'],inplace=True)\n",
      "w2.index=range(0,len(w2))\n",
      "cols = w2.columns.tolist()\n",
      "cols = ['ZIPCode','YEAR','Prop']\n",
      "w2 = w2[cols]\n",
      "w2['RollAvg'] = w2['YEAR']\n",
      "w2.shape"
     ],
     "language": "python",
     "metadata": {},
     "outputs": [
      {
       "output_type": "stream",
       "stream": "stderr",
       "text": [
        "/Users/LS/anaconda/lib/python2.7/site-packages/pandas/core/frame.py:2679: SettingWithCopyWarning: A value is trying to be set on a copy of a slice from a DataFrame\n",
        "  inplace=inplace, kind=kind, na_position=na_position)\n"
       ]
      },
      {
       "metadata": {},
       "output_type": "pyout",
       "prompt_number": 21,
       "text": [
        "(37772, 4)"
       ]
      }
     ],
     "prompt_number": 21
    },
    {
     "cell_type": "code",
     "collapsed": false,
     "input": [
      "zips = w2['ZIPCode'].unique()\n",
      "tomask = pd.Series()\n",
      "i=0\n",
      "num = 0\n",
      "for z in zips:\n",
      "    if len(w2[w2['ZIPCode']==z]) < 24:\n",
      "        i +=1\n",
      "        num += len(w2[w2['ZIPCode']==z])\n",
      "        tomask.set_value(i,z)\n",
      "#         print \"[\" + str(z) + \", \" + str(len(w2[w2['ZIPCode']==z])) + \"]\"\n",
      "tomask.shape\n",
      "# for i in tomask:\n",
      "#     print i\n",
      "tomask.head()\n",
      "print num\n",
      "37772-num"
     ],
     "language": "python",
     "metadata": {},
     "outputs": [
      {
       "output_type": "stream",
       "stream": "stdout",
       "text": [
        "8948\n"
       ]
      },
      {
       "metadata": {},
       "output_type": "pyout",
       "prompt_number": 22,
       "text": [
        "28824"
       ]
      }
     ],
     "prompt_number": 22
    },
    {
     "cell_type": "code",
     "collapsed": false,
     "input": [
      "for i in tomask:\n",
      "    w2 = w2[w2['ZIPCode'] !=i]\n",
      "w2.shape"
     ],
     "language": "python",
     "metadata": {},
     "outputs": [
      {
       "metadata": {},
       "output_type": "pyout",
       "prompt_number": 23,
       "text": [
        "(28824, 4)"
       ]
      }
     ],
     "prompt_number": 23
    },
    {
     "cell_type": "code",
     "collapsed": false,
     "input": [
      "i=0\n",
      "while i < (len(w2['YEAR'])/24):\n",
      "    j = i*24\n",
      "    g = pd.expanding_mean(w2[j:(j+24)]['Prop']).shift(1)\n",
      "    w2['RollAvg'][j:(j+24)] = g\n",
      "    i +=1\n",
      "cols = ['ZIPCode','YEAR','RollAvg']\n",
      "w2 = w2[cols]"
     ],
     "language": "python",
     "metadata": {},
     "outputs": [],
     "prompt_number": 24
    },
    {
     "cell_type": "code",
     "collapsed": false,
     "input": [
      "index = w2['RollAvg'].index[w2['RollAvg'].apply(np.isnan)]\n",
      "df_index = w2.index.values.tolist()\n",
      "len([df_index.index(i) for i in index])"
     ],
     "language": "python",
     "metadata": {},
     "outputs": [
      {
       "metadata": {},
       "output_type": "pyout",
       "prompt_number": 25,
       "text": [
        "1201"
       ]
      }
     ],
     "prompt_number": 25
    },
    {
     "cell_type": "code",
     "collapsed": false,
     "input": [
      "# index = w3['Prop'].index[w3['Prop'].apply(np.isnan)]\n",
      "# df_index = w3.index.values.tolist()\n",
      "# len([df_index.index(i) for i in index])"
     ],
     "language": "python",
     "metadata": {},
     "outputs": [],
     "prompt_number": 26
    },
    {
     "cell_type": "code",
     "collapsed": false,
     "input": [
      "m = pd.merge(m,w2)\n",
      "m = m[m['YEAR']!=1989] #remove 1989 because it has no rolling average data from the year before\n",
      "for i in tomask:\n",
      "    m = m[m['ZIPCode'] !=i]\n",
      "# m[(m['ZIPCode']!=99998)&(m['ZIPCode']!=99999)]\n",
      "m.index=range(0,len(m))\n",
      "m.shape"
     ],
     "language": "python",
     "metadata": {},
     "outputs": [
      {
       "metadata": {},
       "output_type": "pyout",
       "prompt_number": 27,
       "text": [
        "(27623, 26)"
       ]
      }
     ],
     "prompt_number": 27
    },
    {
     "cell_type": "code",
     "collapsed": false,
     "input": [
      "cols = m.columns.tolist()\n",
      "cols"
     ],
     "language": "python",
     "metadata": {},
     "outputs": [
      {
       "metadata": {},
       "output_type": "pyout",
       "prompt_number": 28,
       "text": [
        "['YEAR',\n",
        " 'ZIPCode',\n",
        " 'A1_LESS_20_p',\n",
        " 'A2_TWEN_p',\n",
        " 'A3_THIR_p',\n",
        " 'A4_THIRPLUS_p',\n",
        " 'A5_UNKAGE_p',\n",
        " 'C1_NO_CARE_p',\n",
        " 'C2_FIRST_CARE_p',\n",
        " 'C3_SEC_CARE_p',\n",
        " 'C4_THIRD_CARE_p',\n",
        " 'C5_UNK_CARE_p',\n",
        " 'R1_AZN_p',\n",
        " 'R2_FIL_p',\n",
        " 'R3_IND_p',\n",
        " 'R4_WHITE_p',\n",
        " 'R5_BLACK_p',\n",
        " 'R6_HISP_p',\n",
        " 'R7_UNK_RACE_p',\n",
        " 'W1_2500_p',\n",
        " 'W2_UNDER_1500_p',\n",
        " 'W3_FIFT_p',\n",
        " 'W4_UNK_W_p',\n",
        " 'X1',\n",
        " 'X2',\n",
        " 'RollAvg']"
       ]
      }
     ],
     "prompt_number": 28
    },
    {
     "cell_type": "code",
     "collapsed": false,
     "input": [
      "#Get the weight columns to the end again\n",
      "cols = m.columns.tolist()\n",
      "cols = cols[:-7] + cols[-3:] + cols[-7:-3]\n",
      "m = m[cols]\n",
      "m.columns"
     ],
     "language": "python",
     "metadata": {},
     "outputs": [
      {
       "metadata": {},
       "output_type": "pyout",
       "prompt_number": 29,
       "text": [
        "Index([u'YEAR', u'ZIPCode', u'A1_LESS_20_p', u'A2_TWEN_p', u'A3_THIR_p', u'A4_THIRPLUS_p', u'A5_UNKAGE_p', u'C1_NO_CARE_p', u'C2_FIRST_CARE_p', u'C3_SEC_CARE_p', u'C4_THIRD_CARE_p', u'C5_UNK_CARE_p', u'R1_AZN_p', u'R2_FIL_p', u'R3_IND_p', u'R4_WHITE_p', u'R5_BLACK_p', u'R6_HISP_p', u'R7_UNK_RACE_p', u'X1', u'X2', u'RollAvg', u'W1_2500_p', u'W2_UNDER_1500_p', u'W3_FIFT_p', u'W4_UNK_W_p'], dtype='object')"
       ]
      }
     ],
     "prompt_number": 29
    },
    {
     "cell_type": "markdown",
     "metadata": {},
     "source": [
      "#Set Threshold of Interest"
     ]
    },
    {
     "cell_type": "code",
     "collapsed": false,
     "input": [
      "threshold = 0.93"
     ],
     "language": "python",
     "metadata": {},
     "outputs": [],
     "prompt_number": 30
    },
    {
     "cell_type": "markdown",
     "metadata": {},
     "source": [
      "#Create your target variable"
     ]
    },
    {
     "cell_type": "code",
     "collapsed": false,
     "input": [
      "m['YEAR'] = m['YEAR'].astype(int)\n",
      "m['ZIPCode'] = m['ZIPCode'].astype(object)\n",
      "m.columns"
     ],
     "language": "python",
     "metadata": {},
     "outputs": [
      {
       "metadata": {},
       "output_type": "pyout",
       "prompt_number": 31,
       "text": [
        "Index([u'YEAR', u'ZIPCode', u'A1_LESS_20_p', u'A2_TWEN_p', u'A3_THIR_p', u'A4_THIRPLUS_p', u'A5_UNKAGE_p', u'C1_NO_CARE_p', u'C2_FIRST_CARE_p', u'C3_SEC_CARE_p', u'C4_THIRD_CARE_p', u'C5_UNK_CARE_p', u'R1_AZN_p', u'R2_FIL_p', u'R3_IND_p', u'R4_WHITE_p', u'R5_BLACK_p', u'R6_HISP_p', u'R7_UNK_RACE_p', u'X1', u'X2', u'RollAvg', u'W1_2500_p', u'W2_UNDER_1500_p', u'W3_FIFT_p', u'W4_UNK_W_p'], dtype='object')"
       ]
      }
     ],
     "prompt_number": 31
    },
    {
     "cell_type": "code",
     "collapsed": false,
     "input": [
      "from sklearn.ensemble import RandomForestClassifier\n",
      "\n",
      "m['TARGET1'] = np.where(m['W1_2500_p']<threshold, 1, 0)\n",
      "m['Eyeball'] = np.where(m['RollAvg']<threshold, 1, 0)\n",
      "m.head()\n",
      "cols = m.columns[:-6]\n",
      "X = m[cols]\n",
      "y = m['TARGET1']\n",
      "e = m['Eyeball']\n",
      "X_train_orig = X[X['YEAR']<=2010]\n",
      "X_test_orig = X[X['YEAR']>2010]"
     ],
     "language": "python",
     "metadata": {},
     "outputs": [],
     "prompt_number": 32
    },
    {
     "cell_type": "code",
     "collapsed": false,
     "input": [
      "import scipy as sp\n",
      "def llfun(act, pred):\n",
      "    epsilon = 1e-15\n",
      "    pred = sp.maximum(epsilon, pred)\n",
      "    pred = sp.minimum(1-epsilon, pred)\n",
      "    ll = sum(act*sp.log(pred) + sp.subtract(1,act)*sp.log(sp.subtract(1,pred)))\n",
      "    ll = ll * -1.0/len(act)\n",
      "    return ll"
     ],
     "language": "python",
     "metadata": {},
     "outputs": [],
     "prompt_number": 33
    },
    {
     "cell_type": "code",
     "collapsed": false,
     "input": [
      "X_train_orig.columns.tolist()"
     ],
     "language": "python",
     "metadata": {},
     "outputs": [
      {
       "metadata": {},
       "output_type": "pyout",
       "prompt_number": 34,
       "text": [
        "['YEAR',\n",
        " 'ZIPCode',\n",
        " 'A1_LESS_20_p',\n",
        " 'A2_TWEN_p',\n",
        " 'A3_THIR_p',\n",
        " 'A4_THIRPLUS_p',\n",
        " 'A5_UNKAGE_p',\n",
        " 'C1_NO_CARE_p',\n",
        " 'C2_FIRST_CARE_p',\n",
        " 'C3_SEC_CARE_p',\n",
        " 'C4_THIRD_CARE_p',\n",
        " 'C5_UNK_CARE_p',\n",
        " 'R1_AZN_p',\n",
        " 'R2_FIL_p',\n",
        " 'R3_IND_p',\n",
        " 'R4_WHITE_p',\n",
        " 'R5_BLACK_p',\n",
        " 'R6_HISP_p',\n",
        " 'R7_UNK_RACE_p',\n",
        " 'X1',\n",
        " 'X2',\n",
        " 'RollAvg']"
       ]
      }
     ],
     "prompt_number": 34
    },
    {
     "cell_type": "code",
     "collapsed": false,
     "input": [
      "index = m['RollAvg'].index[m['RollAvg'].apply(np.isnan)]\n",
      "df_index = m.index.values.tolist()\n",
      "[df_index.index(i) for i in index]\n",
      "#SHOULD BE BLANK!! This tells you where the NaNs are"
     ],
     "language": "python",
     "metadata": {},
     "outputs": [
      {
       "metadata": {},
       "output_type": "pyout",
       "prompt_number": 35,
       "text": [
        "[]"
       ]
      }
     ],
     "prompt_number": 35
    },
    {
     "cell_type": "code",
     "collapsed": false,
     "input": [
      "X_train_orig.shape"
     ],
     "language": "python",
     "metadata": {},
     "outputs": [
      {
       "metadata": {},
       "output_type": "pyout",
       "prompt_number": 36,
       "text": [
        "(25221, 22)"
       ]
      }
     ],
     "prompt_number": 36
    },
    {
     "cell_type": "code",
     "collapsed": false,
     "input": [
      "columns = {}\n",
      "cols = X_train_orig.columns.tolist()\n",
      "columns['All'] = X_train_orig.columns.tolist()\n",
      "columns['YearZip'] = cols[:2]\n",
      "columns['All except YEAR'] = cols[1:] \n",
      "columns['Only Age'] = ['A1_LESS_20_p','A2_TWEN_p','A3_THIR_p','A4_THIRPLUS_p','A5_UNKAGE_p']\n",
      "columns['Only Care'] = [ 'C1_NO_CARE_p', 'C2_FIRST_CARE_p', 'C3_SEC_CARE_p', 'C4_THIRD_CARE_p', 'C5_UNK_CARE_p',]\n",
      "columns['Only Race'] = [ 'R1_AZN_p', 'R2_FIL_p', 'R3_IND_p', 'R4_WHITE_p', 'R5_BLACK_p', 'R6_HISP_p', 'R7_UNK_RACE_p']\n",
      "columns['Only WBH'] = [ 'R4_WHITE_p', 'R5_BLACK_p', 'R6_HISP_p']\n",
      "columns['Only W'] = [ 'R4_WHITE_p']\n",
      "columns['All except Year, ZIP'] = cols[2:]\n",
      "columns['HEALTHY'] = ['A4_THIRPLUS_p','C2_FIRST_CARE_p'] + columns['Only Race']\n",
      "columns['MINORITY'] = columns['YearZip'] + columns['Only Age'] + columns['Only Care']\n",
      "columns['Special'] = cols[-3:]\n",
      "columns['Special 2'] = cols[:2] + columns['Only Age'] + cols[-3:]\n",
      "columns['Special 3'] = [cols[2]] + cols[-3:]\n",
      "columns['Historical Averages'] = cols[-1:]\n",
      "\n",
      "y_train = y.ix[:25220]\n",
      "y_test = y.ix[25221:]\n",
      "e_test = e.ix[25221:]\n",
      "\n",
      "actual = float(np.sum(y_test))\n",
      "print \"Actual: \" + str(actual)\n",
      "accuracy = np.sum(y_test==e_test) / float(len(y_test))\n",
      "recall = np.sum((y_test==e_test) & (y_test ==1)) / float(np.sum(y_test))\n",
      "precision = np.sum((y_test==e_test) & (y_test ==1)) / float(np.sum(e_test))\n",
      "print \"-------------------------\"\n",
      "print \"Eyeball Accuracy: \" + str(accuracy)\n",
      "print \"Eyeball Recall: \" + str(recall)\n",
      "print \"Eyebal Precision: \" + str(precision)\n",
      "print \"Eyeball # Predicted: \" + str(np.sum(e_test))\n",
      "print \"-------------------------\"\n",
      "    \n",
      "for key, cols in columns.iteritems():\n",
      "#     cols = X_train_orig.columns.tolist()\n",
      "#     cols = cols[0:]\n",
      "    X_train=X_train_orig[cols]\n",
      "    X_test=X_test_orig[cols]\n",
      "\n",
      "    rf = RandomForestClassifier(n_estimators=100,n_jobs=-1)\n",
      "    rf.fit(X_train,y_train)\n",
      "    predicts = rf.predict_proba(X_test)\n",
      "    predicts2 = rf.predict(X_test)\n",
      "    accuracy = np.sum(y_test==predicts2) / float(len(y_test))\n",
      "    recall = np.sum((y_test==predicts2) & (y_test ==1)) / float(np.sum(y_test))\n",
      "    precision = np.sum((y_test==predicts2) & (y_test ==1)) / float(np.sum(predicts2))\n",
      "    logloss = llfun(y_test, [x[1] for x in predicts])\n",
      "    predicted = float(np.sum(predicts2))\n",
      "                      \n",
      "    print key\n",
      "    print \"Accuracy: \" + str(accuracy)\n",
      "    print \"Recall: \" + str(recall)\n",
      "    print \"Precision: \" + str(precision)\n",
      "    print \"Log Loss: \" + str(logloss)\n",
      "    print \"# Predicted: \" + str(predicted)\n",
      "    print rf.feature_importances_\n",
      "    print \"-------------------------\"\n",
      "    "
     ],
     "language": "python",
     "metadata": {},
     "outputs": [
      {
       "output_type": "stream",
       "stream": "stdout",
       "text": [
        "Actual: 927.0\n",
        "-------------------------\n",
        "Eyeball Accuracy: 0.651124063281\n",
        "Eyeball Recall: 0.266450916936\n",
        "Eyebal Precision: 0.60987654321\n",
        "Eyeball # Predicted: 405\n",
        "-------------------------\n",
        "All"
       ]
      },
      {
       "output_type": "stream",
       "stream": "stdout",
       "text": [
        "\n",
        "Accuracy: 0.644879267277\n",
        "Recall: 0.381877022654\n",
        "Precision: 0.558359621451\n",
        "Log Loss: 0.631749616351\n",
        "# Predicted: 634.0\n",
        "[ 0.04521778  0.04979773  0.04898821  0.04989438  0.04928756  0.05158193\n",
        "  0.00257959  0.03330987  0.04307846  0.04437623  0.04162493  0.03659047\n",
        "  0.04115463  0.03664768  0.02972887  0.05002145  0.07884261  0.04625398\n",
        "  0.04090094  0.04503766  0.04269073  0.09239431]\n",
        "-------------------------\n",
        "Special 3"
       ]
      },
      {
       "output_type": "stream",
       "stream": "stdout",
       "text": [
        "\n",
        "Accuracy: 0.631973355537\n",
        "Recall: 0.309600862999\n",
        "Precision: 0.540489642185\n",
        "Log Loss: 0.668606552596\n",
        "# Predicted: 531.0\n",
        "[ 0.21369627  0.23515789  0.23012359  0.32102225]\n",
        "-------------------------\n",
        "Only Care"
       ]
      },
      {
       "output_type": "stream",
       "stream": "stdout",
       "text": [
        "\n",
        "Accuracy: 0.587427144047\n",
        "Recall: 0.210355987055\n",
        "Precision: 0.429515418502\n",
        "Log Loss: 0.778777144024\n",
        "# Predicted: 454.0\n",
        "[ 0.15222685  0.2333626   0.23411491  0.20943717  0.17085847]\n",
        "-------------------------\n",
        "MINORITY"
       ]
      },
      {
       "output_type": "stream",
       "stream": "stdout",
       "text": [
        "\n",
        "Accuracy: 0.619900083264\n",
        "Recall: 0.330097087379\n",
        "Precision: 0.511705685619\n",
        "Log Loss: 0.661730315034\n",
        "# Predicted: 598.0\n",
        "[ 0.07817604  0.12094626  0.09846711  0.09788056  0.09670338  0.09788425\n",
        "  0.00539705  0.06693688  0.09047967  0.09121835  0.08329447  0.07261598]\n",
        "-------------------------\n",
        "HEALTHY"
       ]
      },
      {
       "output_type": "stream",
       "stream": "stdout",
       "text": [
        "\n",
        "Accuracy: 0.643630308077\n",
        "Recall: 0.339805825243\n",
        "Precision: 0.563506261181\n",
        "Log Loss: 0.643225216111\n",
        "# Predicted: 559.0\n",
        "[ 0.13516141  0.13050048  0.09547676  0.0824239   0.06754119  0.12754957\n",
        "  0.14837793  0.12156129  0.09140747]\n",
        "-------------------------\n",
        "Only W"
       ]
      },
      {
       "output_type": "stream",
       "stream": "stdout",
       "text": [
        "\n",
        "Accuracy: 0.572023313905\n",
        "Recall: 0.305285868393\n",
        "Precision: 0.424287856072\n",
        "Log Loss: 1.95238817966\n",
        "# Predicted: 667.0\n",
        "[ 1.]\n",
        "-------------------------\n",
        "Only Race"
       ]
      },
      {
       "output_type": "stream",
       "stream": "stdout",
       "text": [
        "\n",
        "Accuracy: 0.633638634471\n",
        "Recall: 0.319309600863\n",
        "Precision: 0.543119266055\n",
        "Log Loss: 0.690638819545\n",
        "# Predicted: 545.0\n",
        "[ 0.13380056  0.1139547   0.09380405  0.17554806  0.18398884  0.16842902\n",
        "  0.13047478]\n",
        "-------------------------\n",
        "Only WBH"
       ]
      },
      {
       "output_type": "stream",
       "stream": "stdout",
       "text": [
        "\n",
        "Accuracy: 0.623646960866\n",
        "Recall: 0.26213592233\n",
        "Precision: 0.524838012959\n",
        "Log Loss: 0.790064829772\n",
        "# Predicted: 463.0\n",
        "[ 0.35510751  0.30153402  0.34335847]\n",
        "-------------------------\n",
        "Historical Averages"
       ]
      },
      {
       "output_type": "stream",
       "stream": "stdout",
       "text": [
        "\n",
        "Accuracy: 0.557868442964\n",
        "Recall: 0.347357065804\n",
        "Precision: 0.413350449294\n",
        "Log Loss: 2.86078585794\n",
        "# Predicted: 779.0\n",
        "[ 1.]\n",
        "-------------------------\n",
        "YearZip"
       ]
      },
      {
       "output_type": "stream",
       "stream": "stdout",
       "text": [
        "\n",
        "Accuracy: 0.57493755204\n",
        "Recall: 0.499460625674\n",
        "Precision: 0.453921568627\n",
        "Log Loss: 1.88157971792\n",
        "# Predicted: 1020.0\n",
        "[ 0.06964932  0.93035068]\n",
        "-------------------------\n",
        "All except YEAR"
       ]
      },
      {
       "output_type": "stream",
       "stream": "stdout",
       "text": [
        "\n",
        "Accuracy: 0.646128226478\n",
        "Recall: 0.348435814455\n",
        "Precision: 0.567662565905\n",
        "Log Loss: 0.626111951249\n",
        "# Predicted: 569.0\n",
        "[ 0.05012149  0.05081239  0.05201267  0.05100717  0.053412    0.00257808\n",
        "  0.03465609  0.04640499  0.04720165  0.04352723  0.03849894  0.0428698\n",
        "  0.03793442  0.0305156   0.0528371   0.07669176  0.04966113  0.04649616\n",
        "  0.04896113  0.04631685  0.09748338]\n",
        "-------------------------\n",
        "Special 2"
       ]
      },
      {
       "output_type": "stream",
       "stream": "stdout",
       "text": [
        "\n",
        "Accuracy: 0.624479600333\n",
        "Recall: 0.390507011866\n",
        "Precision: 0.517882689557\n",
        "Log Loss: 0.646700965821\n",
        "# Predicted: 699.0\n",
        "[ 0.07903148  0.10224233  0.10252618  0.10389744  0.10306692  0.10532105\n",
        "  0.00504087  0.11122567  0.10534644  0.18230163]\n",
        "-------------------------\n",
        "Only Age"
       ]
      },
      {
       "output_type": "stream",
       "stream": "stdout",
       "text": [
        "\n",
        "Accuracy: 0.599084096586\n",
        "Recall: 0.181229773463\n",
        "Precision: 0.451612903226\n",
        "Log Loss: 0.7586794327\n",
        "# Predicted: 372.0\n",
        "[ 0.24109781  0.24798106  0.25005323  0.24965468  0.01121322]\n",
        "-------------------------\n",
        "All except Year, ZIP"
       ]
      },
      {
       "output_type": "stream",
       "stream": "stdout",
       "text": [
        "\n",
        "Accuracy: 0.649458784346\n",
        "Recall: 0.349514563107\n",
        "Precision: 0.575488454707\n",
        "Log Loss: 0.632548750926\n",
        "# Predicted: 563.0\n",
        "[ 0.05381823  0.05422677  0.05350509  0.05899319  0.00274564  0.03500204\n",
        "  0.04839316  0.05035134  0.04567706  0.03994576  0.0455669   0.03983179\n",
        "  0.03185734  0.0570991   0.08109586  0.05231497  0.04775608  0.05115393\n",
        "  0.04805552  0.10261021]\n",
        "-------------------------\n",
        "Special"
       ]
      },
      {
       "output_type": "stream",
       "stream": "stdout",
       "text": [
        "\n",
        "Accuracy: 0.634054954205\n",
        "Recall: 0.291262135922\n",
        "Precision: 0.548780487805\n",
        "Log Loss: 0.680700051034\n",
        "# Predicted: 492.0\n",
        "[ 0.30290924  0.29762288  0.39946788]\n",
        "-------------------------\n"
       ]
      }
     ],
     "prompt_number": 37
    },
    {
     "cell_type": "markdown",
     "metadata": {},
     "source": [
      "In a classification task, a precision score of 1.0 for a class C means that every item labeled as belonging to class C does indeed belong to class C (but says nothing about the number of items from class C that were not labeled correctly) whereas a recall of 1.0 means that every item from class C was labeled as belonging to class C (but says nothing about how many other items were incorrectly also labeled as belonging to class C)."
     ]
    },
    {
     "cell_type": "markdown",
     "metadata": {},
     "source": [
      "#APPENDIX: COMPARING TOTALS"
     ]
    },
    {
     "cell_type": "markdown",
     "metadata": {},
     "source": [
      "Basically, here I checked if all the totals matched up. But I chose to ignore the discrepancies anyway because I can't really recitfy them."
     ]
    },
    {
     "cell_type": "code",
     "collapsed": false,
     "input": [
      "a_t = a_totals.groupby(['YEAR','ZIPCode']).sum()\n",
      "c_t = c_totals.groupby(['YEAR','ZIPCode']).sum()\n",
      "w_t = w_totals.groupby(['YEAR','ZIPCode']).sum()\n",
      "r_t = r_totals.groupby(['YEAR','ZIPCode']).sum()\n",
      "r_t.head()\n",
      "check_t = a_t['TOTAL'] - c_t['TOTAL'] #2125 discrepancies\n",
      "check_t[check_t !=0]"
     ],
     "language": "python",
     "metadata": {},
     "outputs": [
      {
       "metadata": {},
       "output_type": "pyout",
       "prompt_number": 38,
       "text": [
        "YEAR  ZIPCode\n",
        "1991  96143        67\n",
        "      96145       NaN\n",
        "      96148     -2062\n",
        "      96151     -1532\n",
        "      96152     -2073\n",
        "      96153     -1490\n",
        "      96154     -1198\n",
        "      96155     -1993\n",
        "      96156     -1168\n",
        "      96157      -580\n",
        "      96158        35\n",
        "      96160        18\n",
        "      96161     -4352\n",
        "      96162      -356\n",
        "1995  90001        93\n",
        "...\n",
        "2006  95076      -1\n",
        "      99998     NaN\n",
        "      99999     NaN\n",
        "2007  99998     NaN\n",
        "      99999     NaN\n",
        "2008  99998     NaN\n",
        "      99999     NaN\n",
        "2009  99998     NaN\n",
        "      99999     NaN\n",
        "2010  99998     NaN\n",
        "      99999     NaN\n",
        "2011  99998     NaN\n",
        "      99999     NaN\n",
        "2012  99998     NaN\n",
        "      99999     NaN\n",
        "Name: TOTAL, Length: 2125, dtype: float64"
       ]
      }
     ],
     "prompt_number": 38
    },
    {
     "cell_type": "code",
     "collapsed": false,
     "input": [
      "check_t = a_t['TOTAL'] - r_t['TOTAL'] #20 disrepancies\n",
      "check_t[check_t !=0]"
     ],
     "language": "python",
     "metadata": {},
     "outputs": [
      {
       "metadata": {},
       "output_type": "pyout",
       "prompt_number": 39,
       "text": [
        "YEAR  ZIPCode\n",
        "2006  90003      -1\n",
        "      90015      -1\n",
        "      90024      -1\n",
        "      90047      -1\n",
        "      90059      -1\n",
        "      90061      -1\n",
        "      91730      -1\n",
        "      92201      -1\n",
        "      92324      -2\n",
        "      92346      -1\n",
        "      92395      -1\n",
        "      92410      -2\n",
        "      92553      -1\n",
        "      93304      -1\n",
        "      93705      -1\n",
        "      94118      -1\n",
        "      94577      -1\n",
        "      94621      -1\n",
        "      95076      -1\n",
        "      99999     -52\n",
        "Name: TOTAL, dtype: float64"
       ]
      }
     ],
     "prompt_number": 39
    },
    {
     "cell_type": "code",
     "collapsed": false,
     "input": [
      "check_t = a_t['TOTAL'] - w_t['TOTAL'] #21 discrepancies\n",
      "check_t[check_t !=0]"
     ],
     "language": "python",
     "metadata": {},
     "outputs": [
      {
       "metadata": {},
       "output_type": "pyout",
       "prompt_number": 40,
       "text": [
        "YEAR  ZIPCode\n",
        "2006  90003       -1\n",
        "      90015       -1\n",
        "      90024       -1\n",
        "      90047       -1\n",
        "      90059       -1\n",
        "      90061       -1\n",
        "      91730       -1\n",
        "      92201       -1\n",
        "      92324       -2\n",
        "      92346       -1\n",
        "      92395       -1\n",
        "      92410       -2\n",
        "      92553       -1\n",
        "      93304       -1\n",
        "      93705       -1\n",
        "      94118       -1\n",
        "      94577       -1\n",
        "      94621       -1\n",
        "      95076       -1\n",
        "      99998     -296\n",
        "      99999      244\n",
        "Name: TOTAL, dtype: int64"
       ]
      }
     ],
     "prompt_number": 40
    },
    {
     "cell_type": "code",
     "collapsed": false,
     "input": [
      "check_t = r_t['TOTAL'] - w_t['TOTAL'] #ONLY 2 discrepancies\n",
      "check_t[check_t !=0]"
     ],
     "language": "python",
     "metadata": {},
     "outputs": [
      {
       "metadata": {},
       "output_type": "pyout",
       "prompt_number": 41,
       "text": [
        "YEAR  ZIPCode\n",
        "2006  99998     -296\n",
        "      99999      296\n",
        "Name: TOTAL, dtype: float64"
       ]
      }
     ],
     "prompt_number": 41
    },
    {
     "cell_type": "markdown",
     "metadata": {},
     "source": [
      "It seems that for the most part, age of MOTHER, RACE, WEIGHT are fully accounted for, save for 20 or so entries. RACE and WEIGHT only differ in 2 years, and it looks like there was just a confusion in the zip codes. This makes sense, since 99998 and 99999 aren't real zip codes;  \n",
      "\n",
      "\"Only ZIP Codes with five events or more are listed in this report. All live births which occurred to residents in ZIP Codes with fewer than five events have been combined into ZIP Code '99998'. All live births to California residents with ZIP Codes missing or not in the appropriate range for California have been combined into ZIP Code '99999'.\"\n",
      "\n",
      "However, there are huge discrepancies with the CARE data. By and the large, the discrepancies are in 1995-1996. "
     ]
    },
    {
     "cell_type": "markdown",
     "metadata": {},
     "source": [
      "A dozen of these are particularly bad cases where the CARE data is far larger than the other recorded totals:"
     ]
    },
    {
     "cell_type": "code",
     "collapsed": false,
     "input": [
      "check_t = a_t['TOTAL'] - c_t['TOTAL'] #2125 discrepancies\n",
      "check_t[check_t <-50].reset_index()"
     ],
     "language": "python",
     "metadata": {},
     "outputs": [
      {
       "html": [
        "<div style=\"max-height:1000px;max-width:1500px;overflow:auto;\">\n",
        "<table border=\"1\" class=\"dataframe\">\n",
        "  <thead>\n",
        "    <tr style=\"text-align: right;\">\n",
        "      <th></th>\n",
        "      <th>YEAR</th>\n",
        "      <th>ZIPCode</th>\n",
        "      <th>TOTAL</th>\n",
        "    </tr>\n",
        "  </thead>\n",
        "  <tbody>\n",
        "    <tr>\n",
        "      <th>0 </th>\n",
        "      <td> 1991</td>\n",
        "      <td> 96148</td>\n",
        "      <td>-2062</td>\n",
        "    </tr>\n",
        "    <tr>\n",
        "      <th>1 </th>\n",
        "      <td> 1991</td>\n",
        "      <td> 96151</td>\n",
        "      <td>-1532</td>\n",
        "    </tr>\n",
        "    <tr>\n",
        "      <th>2 </th>\n",
        "      <td> 1991</td>\n",
        "      <td> 96152</td>\n",
        "      <td>-2073</td>\n",
        "    </tr>\n",
        "    <tr>\n",
        "      <th>3 </th>\n",
        "      <td> 1991</td>\n",
        "      <td> 96153</td>\n",
        "      <td>-1490</td>\n",
        "    </tr>\n",
        "    <tr>\n",
        "      <th>4 </th>\n",
        "      <td> 1991</td>\n",
        "      <td> 96154</td>\n",
        "      <td>-1198</td>\n",
        "    </tr>\n",
        "    <tr>\n",
        "      <th>5 </th>\n",
        "      <td> 1991</td>\n",
        "      <td> 96155</td>\n",
        "      <td>-1993</td>\n",
        "    </tr>\n",
        "    <tr>\n",
        "      <th>6 </th>\n",
        "      <td> 1991</td>\n",
        "      <td> 96156</td>\n",
        "      <td>-1168</td>\n",
        "    </tr>\n",
        "    <tr>\n",
        "      <th>7 </th>\n",
        "      <td> 1991</td>\n",
        "      <td> 96157</td>\n",
        "      <td> -580</td>\n",
        "    </tr>\n",
        "    <tr>\n",
        "      <th>8 </th>\n",
        "      <td> 1991</td>\n",
        "      <td> 96161</td>\n",
        "      <td>-4352</td>\n",
        "    </tr>\n",
        "    <tr>\n",
        "      <th>9 </th>\n",
        "      <td> 1991</td>\n",
        "      <td> 96162</td>\n",
        "      <td> -356</td>\n",
        "    </tr>\n",
        "    <tr>\n",
        "      <th>10</th>\n",
        "      <td> 1995</td>\n",
        "      <td> 92025</td>\n",
        "      <td>  -61</td>\n",
        "    </tr>\n",
        "    <tr>\n",
        "      <th>11</th>\n",
        "      <td> 1995</td>\n",
        "      <td> 92054</td>\n",
        "      <td>  -77</td>\n",
        "    </tr>\n",
        "    <tr>\n",
        "      <th>12</th>\n",
        "      <td> 1995</td>\n",
        "      <td> 92105</td>\n",
        "      <td>  -58</td>\n",
        "    </tr>\n",
        "    <tr>\n",
        "      <th>13</th>\n",
        "      <td> 1995</td>\n",
        "      <td> 92113</td>\n",
        "      <td>  -59</td>\n",
        "    </tr>\n",
        "    <tr>\n",
        "      <th>14</th>\n",
        "      <td> 1996</td>\n",
        "      <td> 96161</td>\n",
        "      <td>-1571</td>\n",
        "    </tr>\n",
        "    <tr>\n",
        "      <th>15</th>\n",
        "      <td> 1996</td>\n",
        "      <td> 96162</td>\n",
        "      <td>-1227</td>\n",
        "    </tr>\n",
        "  </tbody>\n",
        "</table>\n",
        "</div>"
       ],
       "metadata": {},
       "output_type": "pyout",
       "prompt_number": 42,
       "text": [
        "    YEAR  ZIPCode  TOTAL\n",
        "0   1991    96148  -2062\n",
        "1   1991    96151  -1532\n",
        "2   1991    96152  -2073\n",
        "3   1991    96153  -1490\n",
        "4   1991    96154  -1198\n",
        "5   1991    96155  -1993\n",
        "6   1991    96156  -1168\n",
        "7   1991    96157   -580\n",
        "8   1991    96161  -4352\n",
        "9   1991    96162   -356\n",
        "10  1995    92025    -61\n",
        "11  1995    92054    -77\n",
        "12  1995    92105    -58\n",
        "13  1995    92113    -59\n",
        "14  1996    96161  -1571\n",
        "15  1996    96162  -1227"
       ]
      }
     ],
     "prompt_number": 42
    },
    {
     "cell_type": "markdown",
     "metadata": {},
     "source": [
      "Then you have a lot that are over- or under-shooting by 50"
     ]
    },
    {
     "cell_type": "code",
     "collapsed": false,
     "input": [
      "pd.options.display.max_rows = 10\n",
      "check_t[((check_t <50) & (check_t >-50)) & (check_t !=0)].reset_index()"
     ],
     "language": "python",
     "metadata": {},
     "outputs": [
      {
       "html": [
        "<div style=\"max-height:1000px;max-width:1500px;overflow:auto;\">\n",
        "<table border=\"1\" class=\"dataframe\">\n",
        "  <thead>\n",
        "    <tr style=\"text-align: right;\">\n",
        "      <th></th>\n",
        "      <th>YEAR</th>\n",
        "      <th>ZIPCode</th>\n",
        "      <th>TOTAL</th>\n",
        "    </tr>\n",
        "  </thead>\n",
        "  <tbody>\n",
        "    <tr>\n",
        "      <th>0   </th>\n",
        "      <td> 1991</td>\n",
        "      <td> 96158</td>\n",
        "      <td> 35</td>\n",
        "    </tr>\n",
        "    <tr>\n",
        "      <th>1   </th>\n",
        "      <td> 1991</td>\n",
        "      <td> 96160</td>\n",
        "      <td> 18</td>\n",
        "    </tr>\n",
        "    <tr>\n",
        "      <th>2   </th>\n",
        "      <td> 1995</td>\n",
        "      <td> 90002</td>\n",
        "      <td> 13</td>\n",
        "    </tr>\n",
        "    <tr>\n",
        "      <th>3   </th>\n",
        "      <td> 1995</td>\n",
        "      <td> 90003</td>\n",
        "      <td> 15</td>\n",
        "    </tr>\n",
        "    <tr>\n",
        "      <th>4   </th>\n",
        "      <td> 1995</td>\n",
        "      <td> 90004</td>\n",
        "      <td> -4</td>\n",
        "    </tr>\n",
        "    <tr>\n",
        "      <th>...</th>\n",
        "      <td>...</td>\n",
        "      <td>...</td>\n",
        "      <td>...</td>\n",
        "    </tr>\n",
        "    <tr>\n",
        "      <th>2059</th>\n",
        "      <td> 2006</td>\n",
        "      <td> 93705</td>\n",
        "      <td> -1</td>\n",
        "    </tr>\n",
        "    <tr>\n",
        "      <th>2060</th>\n",
        "      <td> 2006</td>\n",
        "      <td> 94118</td>\n",
        "      <td> -1</td>\n",
        "    </tr>\n",
        "    <tr>\n",
        "      <th>2061</th>\n",
        "      <td> 2006</td>\n",
        "      <td> 94577</td>\n",
        "      <td> -1</td>\n",
        "    </tr>\n",
        "    <tr>\n",
        "      <th>2062</th>\n",
        "      <td> 2006</td>\n",
        "      <td> 94621</td>\n",
        "      <td> -1</td>\n",
        "    </tr>\n",
        "    <tr>\n",
        "      <th>2063</th>\n",
        "      <td> 2006</td>\n",
        "      <td> 95076</td>\n",
        "      <td> -1</td>\n",
        "    </tr>\n",
        "  </tbody>\n",
        "</table>\n",
        "<p>2064 rows \u00d7 3 columns</p>\n",
        "</div>"
       ],
       "metadata": {},
       "output_type": "pyout",
       "prompt_number": 43,
       "text": [
        "      YEAR  ZIPCode  TOTAL\n",
        "0     1991    96158     35\n",
        "1     1991    96160     18\n",
        "2     1995    90002     13\n",
        "3     1995    90003     15\n",
        "4     1995    90004     -4\n",
        "...    ...      ...    ...\n",
        "2059  2006    93705     -1\n",
        "2060  2006    94118     -1\n",
        "2061  2006    94577     -1\n",
        "2062  2006    94621     -1\n",
        "2063  2006    95076     -1\n",
        "\n",
        "[2064 rows x 3 columns]"
       ]
      }
     ],
     "prompt_number": 43
    },
    {
     "cell_type": "code",
     "collapsed": false,
     "input": [
      "check_t[check_t >50].reset_index()"
     ],
     "language": "python",
     "metadata": {},
     "outputs": [
      {
       "html": [
        "<div style=\"max-height:1000px;max-width:1500px;overflow:auto;\">\n",
        "<table border=\"1\" class=\"dataframe\">\n",
        "  <thead>\n",
        "    <tr style=\"text-align: right;\">\n",
        "      <th></th>\n",
        "      <th>YEAR</th>\n",
        "      <th>ZIPCode</th>\n",
        "      <th>TOTAL</th>\n",
        "    </tr>\n",
        "  </thead>\n",
        "  <tbody>\n",
        "    <tr>\n",
        "      <th>0 </th>\n",
        "      <td> 1991</td>\n",
        "      <td> 96143</td>\n",
        "      <td>  67</td>\n",
        "    </tr>\n",
        "    <tr>\n",
        "      <th>1 </th>\n",
        "      <td> 1995</td>\n",
        "      <td> 90001</td>\n",
        "      <td>  93</td>\n",
        "    </tr>\n",
        "    <tr>\n",
        "      <th>2 </th>\n",
        "      <td> 1995</td>\n",
        "      <td> 90201</td>\n",
        "      <td> 140</td>\n",
        "    </tr>\n",
        "    <tr>\n",
        "      <th>3 </th>\n",
        "      <td> 1995</td>\n",
        "      <td> 90255</td>\n",
        "      <td> 112</td>\n",
        "    </tr>\n",
        "    <tr>\n",
        "      <th>4 </th>\n",
        "      <td> 1995</td>\n",
        "      <td> 90280</td>\n",
        "      <td>  69</td>\n",
        "    </tr>\n",
        "    <tr>\n",
        "      <th>...</th>\n",
        "      <td>...</td>\n",
        "      <td>...</td>\n",
        "      <td>...</td>\n",
        "    </tr>\n",
        "    <tr>\n",
        "      <th>12</th>\n",
        "      <td> 1996</td>\n",
        "      <td> 93307</td>\n",
        "      <td>  65</td>\n",
        "    </tr>\n",
        "    <tr>\n",
        "      <th>13</th>\n",
        "      <td> 1996</td>\n",
        "      <td> 93309</td>\n",
        "      <td>  55</td>\n",
        "    </tr>\n",
        "    <tr>\n",
        "      <th>14</th>\n",
        "      <td> 1996</td>\n",
        "      <td> 94509</td>\n",
        "      <td>  62</td>\n",
        "    </tr>\n",
        "    <tr>\n",
        "      <th>15</th>\n",
        "      <td> 1996</td>\n",
        "      <td> 94565</td>\n",
        "      <td>  60</td>\n",
        "    </tr>\n",
        "    <tr>\n",
        "      <th>16</th>\n",
        "      <td> 1996</td>\n",
        "      <td> 95240</td>\n",
        "      <td>  52</td>\n",
        "    </tr>\n",
        "  </tbody>\n",
        "</table>\n",
        "<p>17 rows \u00d7 3 columns</p>\n",
        "</div>"
       ],
       "metadata": {},
       "output_type": "pyout",
       "prompt_number": 44,
       "text": [
        "    YEAR  ZIPCode  TOTAL\n",
        "0   1991    96143     67\n",
        "1   1995    90001     93\n",
        "2   1995    90201    140\n",
        "3   1995    90255    112\n",
        "4   1995    90280     69\n",
        "..   ...      ...    ...\n",
        "12  1996    93307     65\n",
        "13  1996    93309     55\n",
        "14  1996    94509     62\n",
        "15  1996    94565     60\n",
        "16  1996    95240     52\n",
        "\n",
        "[17 rows x 3 columns]"
       ]
      }
     ],
     "prompt_number": 44
    },
    {
     "cell_type": "code",
     "collapsed": true,
     "input": [
      "#Now I check for cases where a number wasn't even entered\n",
      "check_t = a_t['TOTAL'] - c_t['TOTAL'] + w_t['TOTAL']- r_t['TOTAL']\n",
      "check_t_null = check_t[check_t.isnull()]\n",
      "check_t_null[:10]\n",
      "#seems like the only problem is 1991-96145 and 1996 - 96160"
     ],
     "language": "python",
     "metadata": {},
     "outputs": [
      {
       "metadata": {},
       "output_type": "pyout",
       "prompt_number": 45,
       "text": [
        "YEAR  ZIPCode\n",
        "1991  96145     NaN\n",
        "1996  96160     NaN\n",
        "2000  99999     NaN\n",
        "2001  99999     NaN\n",
        "2002  99998     NaN\n",
        "      99999     NaN\n",
        "2003  99998     NaN\n",
        "      99999     NaN\n",
        "2004  99998     NaN\n",
        "      99999     NaN\n",
        "Name: TOTAL, dtype: float64"
       ]
      }
     ],
     "prompt_number": 45
    }
   ],
   "metadata": {}
  }
 ]
}